{
 "cells": [
  {
   "cell_type": "markdown",
   "id": "baddc64b-8bd8-4044-bc6f-71cdb9d77439",
   "metadata": {},
   "source": [
    "# 1. Understand the dataset\n",
    "## 1.1 Importing the CSV File\n",
    "First, we imported the CSV file into a Python environment to explore the dataset structure. To do this, we used the pandas library. The following code loaded the file and provided an initial overview of the da.a:"
   ]
  },
  {
   "cell_type": "code",
   "execution_count": 1,
   "id": "a0f7ddfa-b6e7-4d10-aeeb-849a7ff997fe",
   "metadata": {},
   "outputs": [],
   "source": [
    "# Import library\n",
    "import pandas as pd"
   ]
  },
  {
   "cell_type": "code",
   "execution_count": null,
   "id": "ead396d6-a349-4c61-a161-1adda195d39b",
   "metadata": {},
   "outputs": [],
   "source": [
    "# Load dataset\n",
    "df = pd.read_csv(\"Dataset/loan_dataset.csv\")"
   ]
  },
  {
   "cell_type": "code",
   "execution_count": 6,
   "id": "c68ef4bc-0e18-46fa-8183-e00672014305",
   "metadata": {},
   "outputs": [
    {
     "data": {
      "text/plain": [
       "Index(['person_age', 'person_gender', 'person_education', 'person_income',\n",
       "       'person_emp_exp', 'person_home_ownership', 'loan_amnt', 'loan_intent',\n",
       "       'loan_int_rate', 'loan_percent_income', 'cb_person_cred_hist_length',\n",
       "       'credit_score', 'previous_loan_defaults_on_file', 'loan_status'],\n",
       "      dtype='object')"
      ]
     },
     "execution_count": 6,
     "metadata": {},
     "output_type": "execute_result"
    }
   ],
   "source": [
    "# Show the columns\n",
    "df.columns"
   ]
  },
  {
   "cell_type": "code",
   "execution_count": 7,
   "id": "813944a3-eb7a-438c-ad68-bad0a855feab",
   "metadata": {},
   "outputs": [
    {
     "data": {
      "text/plain": [
       "(45000, 14)"
      ]
     },
     "execution_count": 7,
     "metadata": {},
     "output_type": "execute_result"
    }
   ],
   "source": [
    "# See the shape\n",
    "df.shape"
   ]
  },
  {
   "cell_type": "code",
   "execution_count": 4,
   "id": "444609ba-7dd6-459b-9d88-73e7048d8f0f",
   "metadata": {},
   "outputs": [
    {
     "data": {
      "text/plain": [
       "loan_status\n",
       "0    35000\n",
       "1    10000\n",
       "Name: count, dtype: int64"
      ]
     },
     "execution_count": 4,
     "metadata": {},
     "output_type": "execute_result"
    }
   ],
   "source": [
    "df[\"loan_status\"].value_counts()"
   ]
  },
  {
   "cell_type": "code",
   "execution_count": 9,
   "id": "363d4976-9f74-457e-ac1b-f0ee0fd54ddc",
   "metadata": {},
   "outputs": [
    {
     "data": {
      "text/html": [
       "<div>\n",
       "<style scoped>\n",
       "    .dataframe tbody tr th:only-of-type {\n",
       "        vertical-align: middle;\n",
       "    }\n",
       "\n",
       "    .dataframe tbody tr th {\n",
       "        vertical-align: top;\n",
       "    }\n",
       "\n",
       "    .dataframe thead th {\n",
       "        text-align: right;\n",
       "    }\n",
       "</style>\n",
       "<table border=\"1\" class=\"dataframe\">\n",
       "  <thead>\n",
       "    <tr style=\"text-align: right;\">\n",
       "      <th></th>\n",
       "      <th>person_age</th>\n",
       "      <th>person_gender</th>\n",
       "      <th>person_education</th>\n",
       "      <th>person_income</th>\n",
       "      <th>person_emp_exp</th>\n",
       "      <th>person_home_ownership</th>\n",
       "      <th>loan_amnt</th>\n",
       "      <th>loan_intent</th>\n",
       "      <th>loan_int_rate</th>\n",
       "      <th>loan_percent_income</th>\n",
       "      <th>cb_person_cred_hist_length</th>\n",
       "      <th>credit_score</th>\n",
       "      <th>previous_loan_defaults_on_file</th>\n",
       "      <th>loan_status</th>\n",
       "    </tr>\n",
       "  </thead>\n",
       "  <tbody>\n",
       "    <tr>\n",
       "      <th>0</th>\n",
       "      <td>22</td>\n",
       "      <td>female</td>\n",
       "      <td>Master</td>\n",
       "      <td>71948</td>\n",
       "      <td>0</td>\n",
       "      <td>RENT</td>\n",
       "      <td>35000</td>\n",
       "      <td>PERSONAL</td>\n",
       "      <td>16.02</td>\n",
       "      <td>0.49</td>\n",
       "      <td>3</td>\n",
       "      <td>561</td>\n",
       "      <td>No</td>\n",
       "      <td>1</td>\n",
       "    </tr>\n",
       "    <tr>\n",
       "      <th>1</th>\n",
       "      <td>21</td>\n",
       "      <td>female</td>\n",
       "      <td>High School</td>\n",
       "      <td>12282</td>\n",
       "      <td>0</td>\n",
       "      <td>OWN</td>\n",
       "      <td>1000</td>\n",
       "      <td>EDUCATION</td>\n",
       "      <td>11.14</td>\n",
       "      <td>0.08</td>\n",
       "      <td>2</td>\n",
       "      <td>504</td>\n",
       "      <td>Yes</td>\n",
       "      <td>0</td>\n",
       "    </tr>\n",
       "    <tr>\n",
       "      <th>2</th>\n",
       "      <td>25</td>\n",
       "      <td>female</td>\n",
       "      <td>High School</td>\n",
       "      <td>12438</td>\n",
       "      <td>3</td>\n",
       "      <td>MORTGAGE</td>\n",
       "      <td>5500</td>\n",
       "      <td>MEDICAL</td>\n",
       "      <td>12.87</td>\n",
       "      <td>0.44</td>\n",
       "      <td>3</td>\n",
       "      <td>635</td>\n",
       "      <td>No</td>\n",
       "      <td>1</td>\n",
       "    </tr>\n",
       "    <tr>\n",
       "      <th>3</th>\n",
       "      <td>23</td>\n",
       "      <td>female</td>\n",
       "      <td>Bachelor</td>\n",
       "      <td>79753</td>\n",
       "      <td>0</td>\n",
       "      <td>RENT</td>\n",
       "      <td>35000</td>\n",
       "      <td>MEDICAL</td>\n",
       "      <td>15.23</td>\n",
       "      <td>0.44</td>\n",
       "      <td>2</td>\n",
       "      <td>675</td>\n",
       "      <td>No</td>\n",
       "      <td>1</td>\n",
       "    </tr>\n",
       "    <tr>\n",
       "      <th>4</th>\n",
       "      <td>24</td>\n",
       "      <td>male</td>\n",
       "      <td>Master</td>\n",
       "      <td>66135</td>\n",
       "      <td>1</td>\n",
       "      <td>RENT</td>\n",
       "      <td>35000</td>\n",
       "      <td>MEDICAL</td>\n",
       "      <td>14.27</td>\n",
       "      <td>0.53</td>\n",
       "      <td>4</td>\n",
       "      <td>586</td>\n",
       "      <td>No</td>\n",
       "      <td>1</td>\n",
       "    </tr>\n",
       "  </tbody>\n",
       "</table>\n",
       "</div>"
      ],
      "text/plain": [
       "   person_age person_gender person_education  person_income  person_emp_exp  \\\n",
       "0          22        female           Master          71948               0   \n",
       "1          21        female      High School          12282               0   \n",
       "2          25        female      High School          12438               3   \n",
       "3          23        female         Bachelor          79753               0   \n",
       "4          24          male           Master          66135               1   \n",
       "\n",
       "  person_home_ownership  loan_amnt loan_intent  loan_int_rate  \\\n",
       "0                  RENT      35000    PERSONAL          16.02   \n",
       "1                   OWN       1000   EDUCATION          11.14   \n",
       "2              MORTGAGE       5500     MEDICAL          12.87   \n",
       "3                  RENT      35000     MEDICAL          15.23   \n",
       "4                  RENT      35000     MEDICAL          14.27   \n",
       "\n",
       "   loan_percent_income  cb_person_cred_hist_length  credit_score  \\\n",
       "0                 0.49                           3           561   \n",
       "1                 0.08                           2           504   \n",
       "2                 0.44                           3           635   \n",
       "3                 0.44                           2           675   \n",
       "4                 0.53                           4           586   \n",
       "\n",
       "  previous_loan_defaults_on_file  loan_status  \n",
       "0                             No            1  \n",
       "1                            Yes            0  \n",
       "2                             No            1  \n",
       "3                             No            1  \n",
       "4                             No            1  "
      ]
     },
     "execution_count": 9,
     "metadata": {},
     "output_type": "execute_result"
    }
   ],
   "source": [
    "# Displaying global information about the dataset\n",
    "df.head()"
   ]
  },
  {
   "cell_type": "markdown",
   "id": "6ce8cd83-5d60-49f5-814a-9889bf0dc429",
   "metadata": {},
   "source": [
    "These results give us an initial view of the content and diversity of the data. The dataset contains 45,000 records spread across 14 columns. Each column represents a specific attribute, ranging from personal information (age, gender, education level) to loan characteristics and credit history."
   ]
  },
  {
   "cell_type": "markdown",
   "id": "e40dd6cc-090d-471e-a6a7-356b6c589df9",
   "metadata": {},
   "source": [
    "## 1.2 Checking for Null Values ​​and Duplicate Data\n",
    "The quality of the analyses depends on the completeness and uniqueness of the data. We therefore checked for the presence of null values ​​and duplicates in the dataset:\n",
    "\n",
    "### Checking for Null Values\n",
    "The following code counts the missing values ​​in each column:"
   ]
  },
  {
   "cell_type": "code",
   "execution_count": 10,
   "id": "eaf75140-7d25-4f7d-af82-652ead34ba13",
   "metadata": {},
   "outputs": [
    {
     "data": {
      "text/plain": [
       "person_age                        0\n",
       "person_gender                     0\n",
       "person_education                  0\n",
       "person_income                     0\n",
       "person_emp_exp                    0\n",
       "person_home_ownership             0\n",
       "loan_amnt                         0\n",
       "loan_intent                       0\n",
       "loan_int_rate                     0\n",
       "loan_percent_income               0\n",
       "cb_person_cred_hist_length        0\n",
       "credit_score                      0\n",
       "previous_loan_defaults_on_file    0\n",
       "loan_status                       0\n",
       "dtype: int64"
      ]
     },
     "execution_count": 10,
     "metadata": {},
     "output_type": "execute_result"
    }
   ],
   "source": [
    "# Checking for null values\n",
    "df.isnull().sum()"
   ]
  },
  {
   "cell_type": "markdown",
   "id": "758e8851-406e-408a-b479-c9f0eb7ce693",
   "metadata": {},
   "source": [
    "Conclusion: No records are incomplete, ensuring an analysis free from bias due to missing data.\n",
    "### Duplicate Check\n",
    "To ensure no data is duplicated, we performed:"
   ]
  },
  {
   "cell_type": "code",
   "execution_count": 11,
   "id": "5d234407-9001-47f5-b757-c09b4eeaf490",
   "metadata": {},
   "outputs": [
    {
     "data": {
      "text/plain": [
       "0"
      ]
     },
     "execution_count": 11,
     "metadata": {},
     "output_type": "execute_result"
    }
   ],
   "source": [
    "# Identification of duplicates\n",
    "df.duplicated().sum()"
   ]
  },
  {
   "cell_type": "markdown",
   "id": "295f4f66-24a0-472c-85ec-48cf5d474f37",
   "metadata": {},
   "source": [
    "Conclusion: The dataset is free of duplicates, ensuring data quality and integrity for subsequent analyses.\n",
    "\n",
    "### 1.3 Data Transformation and Typing\n",
    "To ensure integrity during import into SQL Server, we performed a thorough data typing check."
   ]
  },
  {
   "cell_type": "code",
   "execution_count": 12,
   "id": "3365eed9-8022-4f5c-9dd6-a0ba6a6e2847",
   "metadata": {},
   "outputs": [
    {
     "name": "stdout",
     "output_type": "stream",
     "text": [
      "<class 'pandas.core.frame.DataFrame'>\n",
      "RangeIndex: 45000 entries, 0 to 44999\n",
      "Data columns (total 14 columns):\n",
      " #   Column                          Non-Null Count  Dtype  \n",
      "---  ------                          --------------  -----  \n",
      " 0   person_age                      45000 non-null  int64  \n",
      " 1   person_gender                   45000 non-null  object \n",
      " 2   person_education                45000 non-null  object \n",
      " 3   person_income                   45000 non-null  int64  \n",
      " 4   person_emp_exp                  45000 non-null  int64  \n",
      " 5   person_home_ownership           45000 non-null  object \n",
      " 6   loan_amnt                       45000 non-null  int64  \n",
      " 7   loan_intent                     45000 non-null  object \n",
      " 8   loan_int_rate                   45000 non-null  float64\n",
      " 9   loan_percent_income             45000 non-null  float64\n",
      " 10  cb_person_cred_hist_length      45000 non-null  int64  \n",
      " 11  credit_score                    45000 non-null  int64  \n",
      " 12  previous_loan_defaults_on_file  45000 non-null  object \n",
      " 13  loan_status                     45000 non-null  int64  \n",
      "dtypes: float64(2), int64(7), object(5)\n",
      "memory usage: 4.8+ MB\n"
     ]
    }
   ],
   "source": [
    "df.info()"
   ]
  },
  {
   "cell_type": "markdown",
   "id": "d8e5d65d-5381-4a0f-a250-95135136fae0",
   "metadata": {},
   "source": [
    "# 2. Conclusion\n",
    "The first phase of exploration confirmed the quality of the HSBC UK dataset. Key steps include:\n",
    "## 2.1 Integrity Validation\n",
    "No incomplete records were identified during the null value check. This ensures that the analysis is performed on a complete dataset, without bias induced by missing data.\n",
    "## 2.2 Type Check and Correction\n",
    "The check confirmed that numeric and categorical data were correctly defined.\n",
    "## 2.3 Duplicate Analysis:\n",
    "Running the *df.duplicated().sum()* function confirmed that no duplicates were present in the dataset. This ensures the reliability of aggregations and avoids bias during analysis."
   ]
  },
  {
   "cell_type": "code",
   "execution_count": null,
   "id": "0e4213fd-1af1-427c-abfc-119c0d9bd065",
   "metadata": {},
   "outputs": [],
   "source": []
  }
 ],
 "metadata": {
  "kernelspec": {
   "display_name": "Python 3 (ipykernel)",
   "language": "python",
   "name": "python3"
  },
  "language_info": {
   "codemirror_mode": {
    "name": "ipython",
    "version": 3
   },
   "file_extension": ".py",
   "mimetype": "text/x-python",
   "name": "python",
   "nbconvert_exporter": "python",
   "pygments_lexer": "ipython3",
   "version": "3.12.2"
  }
 },
 "nbformat": 4,
 "nbformat_minor": 5
}
